{
 "cells": [
  {
   "cell_type": "code",
   "execution_count": 3,
   "metadata": {},
   "outputs": [],
   "source": [
    "import pandas as pd\n",
    "import numpy as np"
   ]
  },
  {
   "cell_type": "markdown",
   "metadata": {},
   "source": [
    "### 데이터페이스 입력\n",
    "데이터베이스에 있는 데이터를 데이터프레임으로 받아오기 위해서는 각 DBMS에 맞는 connector를 사용하여야함  \n",
    "\n",
    "##### mysql connerctor\n",
    "```bash\n",
    "pip install mysql-connector-python\n",
    "```\n",
    "\n",
    "```python\n",
    "import mysql.connector\n",
    "```"
   ]
  },
  {
   "cell_type": "code",
   "execution_count": 6,
   "metadata": {},
   "outputs": [],
   "source": [
    "import mysql.connector"
   ]
  },
  {
   "cell_type": "code",
   "execution_count": 8,
   "metadata": {},
   "outputs": [
    {
     "name": "stdout",
     "output_type": "stream",
     "text": [
      "데이터베이스 연결 성공\n",
      "데이터베이스 연결 해제\n"
     ]
    }
   ],
   "source": [
    "try:\n",
    "  conn = mysql.connector.connect(\n",
    "    host='127.0.0.1',\n",
    "    user='root',\n",
    "    password='root',\n",
    "    database='real_estate'\n",
    "  )\n",
    "\n",
    "  if conn.is_connected():\n",
    "    print('데이터베이스 연결 성공')\n",
    "\n",
    "except Exception as e:\n",
    "  print('데이터 베이스 접속실패', e)\n",
    "\n",
    "finally:\n",
    "  if conn.is_connected():\n",
    "    conn.close()\n",
    "    print('데이터베이스 연결 해제')"
   ]
  },
  {
   "cell_type": "markdown",
   "metadata": {},
   "source": [
    "데이터베이스 연결 후 쿼리 작업을 할 때는 `cursor` 객체를 사용"
   ]
  },
  {
   "cell_type": "code",
   "execution_count": 9,
   "metadata": {},
   "outputs": [
    {
     "name": "stdout",
     "output_type": "stream",
     "text": [
      "('galaxy', 'P!ssw0rd', 'galaxy@email.com', 'HOME', 'NOMAL')\n",
      "('userID', 'P!ssw0rd', 'email@email.com', 'HOME', 'NOMAL')\n",
      "데이터베이스 연결 해제\n"
     ]
    }
   ],
   "source": [
    "try:\n",
    "  conn = mysql.connector.connect(\n",
    "    host='127.0.0.1',\n",
    "    user='root',\n",
    "    password='root',\n",
    "    database='real_estate'\n",
    "  )\n",
    "\n",
    "  if conn.is_connected():\n",
    "    cursor=conn.cursor()\n",
    "    query='SELECT * FROM user'\n",
    "    cursor.execute(query)\n",
    "\n",
    "    for record in cursor:\n",
    "      print(record)\n",
    "\n",
    "\n",
    "except Exception as e:\n",
    "  print('데이터 베이스 접속실패', e)\n",
    "\n",
    "finally:\n",
    "  if conn.is_connected():\n",
    "    conn.close()\n",
    "    print('데이터베이스 연결 해제')"
   ]
  },
  {
   "cell_type": "code",
   "execution_count": null,
   "metadata": {},
   "outputs": [],
   "source": []
  },
  {
   "cell_type": "code",
   "execution_count": null,
   "metadata": {},
   "outputs": [],
   "source": []
  },
  {
   "cell_type": "code",
   "execution_count": null,
   "metadata": {},
   "outputs": [],
   "source": []
  },
  {
   "cell_type": "code",
   "execution_count": null,
   "metadata": {},
   "outputs": [],
   "source": []
  },
  {
   "cell_type": "code",
   "execution_count": null,
   "metadata": {},
   "outputs": [],
   "source": []
  },
  {
   "cell_type": "code",
   "execution_count": null,
   "metadata": {},
   "outputs": [],
   "source": []
  },
  {
   "cell_type": "code",
   "execution_count": null,
   "metadata": {},
   "outputs": [],
   "source": []
  },
  {
   "cell_type": "code",
   "execution_count": null,
   "metadata": {},
   "outputs": [],
   "source": []
  },
  {
   "cell_type": "code",
   "execution_count": null,
   "metadata": {},
   "outputs": [],
   "source": []
  },
  {
   "cell_type": "code",
   "execution_count": null,
   "metadata": {},
   "outputs": [],
   "source": []
  }
 ],
 "metadata": {
  "kernelspec": {
   "display_name": "Python 3",
   "language": "python",
   "name": "python3"
  },
  "language_info": {
   "codemirror_mode": {
    "name": "ipython",
    "version": 3
   },
   "file_extension": ".py",
   "mimetype": "text/x-python",
   "name": "python",
   "nbconvert_exporter": "python",
   "pygments_lexer": "ipython3",
   "version": "3.12.2"
  }
 },
 "nbformat": 4,
 "nbformat_minor": 2
}
