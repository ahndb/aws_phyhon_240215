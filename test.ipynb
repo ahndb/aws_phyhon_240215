{
 "cells": [
  {
   "cell_type": "code",
   "execution_count": 1,
   "metadata": {},
   "outputs": [
    {
     "name": "stdout",
     "output_type": "stream",
     "text": [
      "2\n",
      "1\n",
      "2.23\n",
      "2.67\n",
      "\n",
      "2.21\n",
      "2.21\n",
      "2.23\n",
      "2.23\n",
      "2.25\n",
      "2.25\n"
     ]
    }
   ],
   "source": [
    "print(round(1.5));\n",
    "print(round(1.4));\n",
    "print(round(2.225, 2));\n",
    "print(round(2.675, 2)); # 컴퓨터의 한계,, 실수를 정확하게 집어내지 못해서 해당문제가 생겨남.\n",
    "\n",
    "print();\n",
    "print(round(2.205, 2));\n",
    "print(round(2.215, 2));\n",
    "print(round(2.225, 2));\n",
    "print(round(2.235, 2));\n",
    "print(round(2.245, 2));\n",
    "print(round(2.255, 2)); # 반올림하는 앞자리가 홀수 일때 생기는 버그"
   ]
  }
 ],
 "metadata": {
  "kernelspec": {
   "display_name": "Python 3",
   "language": "python",
   "name": "python3"
  },
  "language_info": {
   "codemirror_mode": {
    "name": "ipython",
    "version": 3
   },
   "file_extension": ".py",
   "mimetype": "text/x-python",
   "name": "python",
   "nbconvert_exporter": "python",
   "pygments_lexer": "ipython3",
   "version": "3.12.2"
  }
 },
 "nbformat": 4,
 "nbformat_minor": 2
}
