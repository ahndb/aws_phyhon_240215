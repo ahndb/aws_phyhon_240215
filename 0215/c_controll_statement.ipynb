{
 "cells": [
  {
   "cell_type": "code",
   "execution_count": 1,
   "metadata": {},
   "outputs": [],
   "source": [
    "# 조건문\n",
    "# if 조건문\n",
    "# if 조건 :\n",
    "#   실행문"
   ]
  },
  {
   "cell_type": "code",
   "execution_count": 11,
   "metadata": {},
   "outputs": [],
   "source": [
    "number = 12345\n",
    "# : 이후에 새로운 코드 블럭이 생기면 라인 첫 공백을 모두 같게 해야함\n",
    "if number % 2 == 0 :\n",
    "  print('짝수')\n",
    "  print('짝수')"
   ]
  },
  {
   "cell_type": "code",
   "execution_count": null,
   "metadata": {},
   "outputs": [],
   "source": [
    "# else\n",
    "# else :\n",
    "#   실행문"
   ]
  },
  {
   "cell_type": "code",
   "execution_count": 12,
   "metadata": {},
   "outputs": [
    {
     "name": "stdout",
     "output_type": "stream",
     "text": [
      "홀수\n"
     ]
    }
   ],
   "source": [
    "if number % 2 == 0:\n",
    "  print('짝수')\n",
    "else :\n",
    "  print('홀수')"
   ]
  },
  {
   "cell_type": "code",
   "execution_count": null,
   "metadata": {},
   "outputs": [],
   "source": [
    "# 윤년\n",
    "# 4202년이 윤년인지 아닌지 판별하는 조건문을 작성하시오.\n",
    "# 윤년이면 “윤년입니다”를 출력하고 아니라면 “윤년이 아닙니다”라고 출력"
   ]
  },
  {
   "cell_type": "code",
   "execution_count": 105,
   "metadata": {},
   "outputs": [
    {
     "name": "stdout",
     "output_type": "stream",
     "text": [
      "\"윤년이 아닙니다.\"\n"
     ]
    }
   ],
   "source": [
    "year = 2007\n",
    "\n",
    "if year %  400 == 0 or year % 100 != 0 and year % 4 == 0:\n",
    "  print('\"윤년입니다.\"')\n",
    "else:\n",
    "  print('\"윤년이 아닙니다.\"')"
   ]
  },
  {
   "cell_type": "code",
   "execution_count": null,
   "metadata": {},
   "outputs": [],
   "source": [
    "# elif (else if): 상위의 조건이 false이면서 elif의 조건이 true이면 실행\n",
    "# elif 조건:\n",
    "#   실행문"
   ]
  },
  {
   "cell_type": "code",
   "execution_count": 106,
   "metadata": {},
   "outputs": [
    {
     "name": "stdout",
     "output_type": "stream",
     "text": [
      "C\n"
     ]
    }
   ],
   "source": [
    "score = 80\n",
    "if score > 90:\n",
    "  print('A')\n",
    "elif score > 80:\n",
    "  print('B')\n",
    "elif score > 70:\n",
    "  print('C')\n",
    "elif score > 60:\n",
    "  print('D')\n",
    "else:\n",
    "  print('F')"
   ]
  },
  {
   "cell_type": "code",
   "execution_count": 109,
   "metadata": {},
   "outputs": [
    {
     "name": "stdout",
     "output_type": "stream",
     "text": [
      "3등급\n"
     ]
    }
   ],
   "source": [
    "# 수박등급 구하기\n",
    "# 어떤 농장에서는 수박이 10kg이 넘으면 1등급, 그렇지 않고 7kg이 넘으면 2등급,, 그렇지 않고 4kg이 넘으면 3등급, 나머지는 4등급을 준다고 한다. 이 수박의 등급을 정하는 파이썬 코드를 작성한다.\n",
    "\n",
    "water_melon = 6\n",
    "if water_melon > 10:\n",
    "  print('1등급')\n",
    "elif water_melon > 7:\n",
    "  print('2등급')\n",
    "elif water_melon > 4:\n",
    "  print('3등급')\n",
    "else:\n",
    "  print('4등급')"
   ]
  },
  {
   "cell_type": "code",
   "execution_count": null,
   "metadata": {},
   "outputs": [],
   "source": [
    "# 중첩 if\n",
    "# if문 안에 if문 (들여쓰기 조심)"
   ]
  },
  {
   "cell_type": "code",
   "execution_count": 125,
   "metadata": {},
   "outputs": [
    {
     "name": "stdout",
     "output_type": "stream",
     "text": [
      "불합격\n"
     ]
    }
   ],
   "source": [
    "gender = '남자'\n",
    "count = 2\n",
    "if gender == '남자':\n",
    "  # 남자일 때\n",
    "  if count >= 10:\n",
    "    print('합격')\n",
    "  else:\n",
    "    print('불합격')\n",
    "else:\n",
    "  # 여자일 때  \n",
    "  if count >= 5:\n",
    "    print('합격')\n",
    "  else:\n",
    "    print('불합격')\n",
    "\n",
    "\n",
    "    "
   ]
  },
  {
   "cell_type": "code",
   "execution_count": 127,
   "metadata": {},
   "outputs": [
    {
     "name": "stdout",
     "output_type": "stream",
     "text": [
      "불합격\n"
     ]
    }
   ],
   "source": [
    "if (gender == '남자' and count >= 10) or (gender == '여자' and count >= 5):\n",
    "  print('합격')\n",
    "else:\n",
    "  print('불합격')"
   ]
  },
  {
   "cell_type": "code",
   "execution_count": 4,
   "metadata": {},
   "outputs": [
    {
     "name": "stdout",
     "output_type": "stream",
     "text": [
      "400\n"
     ]
    },
    {
     "ename": "TypeError",
     "evalue": "not all arguments converted during string formatting",
     "output_type": "error",
     "traceback": [
      "\u001b[1;31m---------------------------------------------------------------------------\u001b[0m",
      "\u001b[1;31mTypeError\u001b[0m                                 Traceback (most recent call last)",
      "Cell \u001b[1;32mIn[4], line 10\u001b[0m\n\u001b[0;32m      7\u001b[0m year \u001b[38;5;241m=\u001b[39m \u001b[38;5;28minput\u001b[39m()\n\u001b[0;32m      8\u001b[0m \u001b[38;5;28mprint\u001b[39m(year)\n\u001b[1;32m---> 10\u001b[0m \u001b[38;5;28;01mif\u001b[39;00m \u001b[43myear\u001b[49m\u001b[43m \u001b[49m\u001b[38;5;241;43m%\u001b[39;49m\u001b[43m \u001b[49m\u001b[38;5;241;43m400\u001b[39;49m \u001b[38;5;241m!=\u001b[39m \u001b[38;5;241m0\u001b[39m:\n\u001b[0;32m     11\u001b[0m   \u001b[38;5;28mprint\u001b[39m(\u001b[38;5;124m'\u001b[39m\u001b[38;5;124m윤년이 아닙니다.\u001b[39m\u001b[38;5;124m'\u001b[39m)\n\u001b[0;32m     12\u001b[0m   \u001b[38;5;28;01mif\u001b[39;00m year \u001b[38;5;241m%\u001b[39m \u001b[38;5;241m4\u001b[39m \u001b[38;5;241m!=\u001b[39m \u001b[38;5;241m0\u001b[39m:\n",
      "\u001b[1;31mTypeError\u001b[0m: not all arguments converted during string formatting"
     ]
    }
   ],
   "source": [
    "# 윤년\n",
    "# 4202년이 윤년인지 아닌지 판별하는 조건문을 작성하시오.\n",
    "# 윤년이면 “윤년입니다”를 출력하고 아니라면 “윤년이 아닙니다”라고 출력\n",
    "\n",
    "# 다른 방식으로 문제를 해결해 오기\n",
    "\n",
    "year = input()\n",
    "print(year)\n",
    "\n",
    "if year % 400 != 0:\n",
    "  print('윤년이 아닙니다.')\n",
    "  if year % 4 != 0:\n",
    "    print('윤년이 아닙니다.')\n",
    "  else:\n",
    "    print('윤년이 아닙니다.')\n",
    "else:\n",
    "  print('윤년 입니다.')\n"
   ]
  },
  {
   "cell_type": "code",
   "execution_count": 37,
   "metadata": {},
   "outputs": [
    {
     "name": "stdout",
     "output_type": "stream",
     "text": [
      "True\n",
      "False\n",
      "XA, XB는10년 복역한다\n"
     ]
    }
   ],
   "source": [
    "# 두 명의 범죄자 A, B가 체포되어 서로 다른 취조실에서 격리되어 심문을 받고 있다. 이들에게 자백 여부에 따라 다음의 선택이 가능하다.\n",
    "\n",
    "# - 둘 중 하나가 배신하여 죄를 자백하면 자백한 사람은 즉시 풀어주고 나머지 한 명이 10년을 복역해야 한다.\n",
    "# - 둘 모두 서로를 배신하여 죄를 자백하면 둘 다 5년을 복역한다.\n",
    "# - 둘 모두 죄를 자백하지 않으면 둘 다 1년을 복역한다.\n",
    "\n",
    "# 죄수를 나타내는 변수 `XA`, `XB`는 자백하면 `True`, 그렇지 않으면 `False`를 가지는 값이다. 이때 변수 `XA`, `XB` 값에 따라 각각이 복역해야 하는 연 수를 변수 `YA`, `YB`라고 할 때 `YA`, `YB`를 계산하는 프로그램을 만든다.\n",
    "\n",
    "XA = input()\n",
    "print(XA)\n",
    "XB = input()\n",
    "print(XB)\n",
    "\n",
    "YA = 'XB는 10년 복역한다, XA는 풀어준다'\n",
    "YB = 'XA는 10년 복역한다, XB는 풀어준다'\n",
    "\n",
    "if XA == True and XB == True:\n",
    "    print('XA ,XB는 5년 복역한다')\n",
    "    if  XA == True and XB == False:\n",
    "        print(YA)\n",
    "    else:\n",
    "        print(YB)\n",
    "else:\n",
    "    print('XA, XB는10년 복역한다')"
   ]
  }
 ],
 "metadata": {
  "kernelspec": {
   "display_name": "Python 3",
   "language": "python",
   "name": "python3"
  },
  "language_info": {
   "codemirror_mode": {
    "name": "ipython",
    "version": 3
   },
   "file_extension": ".py",
   "mimetype": "text/x-python",
   "name": "python",
   "nbconvert_exporter": "python",
   "pygments_lexer": "ipython3",
   "version": "3.12.2"
  }
 },
 "nbformat": 4,
 "nbformat_minor": 2
}
