{
 "cells": [
  {
   "cell_type": "code",
   "execution_count": null,
   "metadata": {},
   "outputs": [],
   "source": [
    "# 함수: 실행할 코드를 미리 지정해 두는 것\n",
    "\n",
    "# def 함수명 (매개변수[,...]):\n",
    "#   실행문\n",
    "#   return 결과"
   ]
  },
  {
   "cell_type": "code",
   "execution_count": 2,
   "metadata": {},
   "outputs": [],
   "source": [
    "def check(number):\n",
    "  # 삼항 연산자\n",
    "  # 다른언어 - 조건 ? (true일 때) : (false 일 때)\n",
    "  # 파이썬 - (true 일 때) if 조건 else (false 일 때)\n",
    "  result = '짝수' if number % 2 == 0 else '홀수'\n",
    "  return result\n"
   ]
  },
  {
   "cell_type": "code",
   "execution_count": 3,
   "metadata": {},
   "outputs": [
    {
     "data": {
      "text/plain": [
       "'홀수'"
      ]
     },
     "execution_count": 3,
     "metadata": {},
     "output_type": "execute_result"
    }
   ],
   "source": [
    "check(7)"
   ]
  },
  {
   "cell_type": "code",
   "execution_count": 34,
   "metadata": {},
   "outputs": [],
   "source": [
    "def days1 (month):\n",
    "  result = 28 \n",
    "  \n",
    "  if month == 1:\n",
    "    result = 31\n",
    "  if month == 2:\n",
    "    result = 28  \n",
    "  if month == 3:\n",
    "    result = 31\n",
    "  if month == 4:\n",
    "    result = 30\n",
    "  if month == 5:\n",
    "    result = 31\n",
    "  if month == 6:\n",
    "    result = 30\n",
    "  if month == 7:\n",
    "    result = 31\n",
    "  if month == 8:\n",
    "    result = 31\n",
    "  if month == 9:\n",
    "    result = 30\n",
    "  if month == 10:\n",
    "    result = 31\n",
    "  if month == 11:\n",
    "    result = 30\n",
    "  if month == 12:\n",
    "    result = 31\n",
    "  return result"
   ]
  },
  {
   "cell_type": "code",
   "execution_count": 38,
   "metadata": {},
   "outputs": [
    {
     "data": {
      "text/plain": [
       "30"
      ]
     },
     "execution_count": 38,
     "metadata": {},
     "output_type": "execute_result"
    }
   ],
   "source": [
    "days1(4)"
   ]
  },
  {
   "cell_type": "code",
   "execution_count": 50,
   "metadata": {},
   "outputs": [],
   "source": [
    "def days1 (month):\n",
    "  result = 28 \n",
    "  if month == 1 or month == 3 or month == 5 or month == 7 or month == 8 or month == 10 or month == 12:\n",
    "    result = 31\n",
    "  elif month == 4 or month == 6 or month == 9 or month == 11:\n",
    "    result = 30\n",
    "  return result"
   ]
  },
  {
   "cell_type": "code",
   "execution_count": 55,
   "metadata": {},
   "outputs": [
    {
     "data": {
      "text/plain": [
       "30"
      ]
     },
     "execution_count": 55,
     "metadata": {},
     "output_type": "execute_result"
    }
   ],
   "source": [
    "days1(4)"
   ]
  },
  {
   "cell_type": "code",
   "execution_count": null,
   "metadata": {},
   "outputs": [],
   "source": [
    "# 파이썬의 함수는 return으로 여러 개의 결과를 반환 가능\n",
    "# def 함수명 (매개변수[,...]):\n",
    "#   return 반환값1, 반환값2\n",
    "\n",
    "# 변수 = 함수명 (매개변수)\n",
    "# 변수1, 변수2 = 함수명(매개변수)"
   ]
  },
  {
   "cell_type": "code",
   "execution_count": 56,
   "metadata": {},
   "outputs": [],
   "source": [
    "def funtion1 ():\n",
    "  return 1, 2"
   ]
  },
  {
   "cell_type": "code",
   "execution_count": 59,
   "metadata": {},
   "outputs": [
    {
     "name": "stdout",
     "output_type": "stream",
     "text": [
      "1,2\n",
      "(1, 2)\n"
     ]
    }
   ],
   "source": [
    "x, y = funtion1()\n",
    "print(f'{x},{y}')\n",
    "z = funtion1()\n",
    "print(f'{z}')"
   ]
  },
  {
   "cell_type": "code",
   "execution_count": 70,
   "metadata": {},
   "outputs": [],
   "source": [
    "def days2 (year, month):\n",
    "  yearResult = '평년' \n",
    "  monthResult = 28\n",
    "\n",
    "  if year %  400 == 0 or (year % 100 != 0 and year % 4 == 0):\n",
    "    yearResult = '윤년'\n",
    "\n",
    "  if month == 1 or month == 3 or month == 5 or month == 7 or month  == 8 or month == 10 or month == 12:\n",
    "    monthResult = 31\n",
    "  elif month == 4 or month == 6 or month == 9 or month == 11:\n",
    "    monthResult = 30\n",
    "  else:\n",
    "    if yearResult == '윤년':\n",
    "      monthResult = 29\n",
    "    else:\n",
    "      monthResult = 28\n",
    "\n",
    "  return yearResult, monthResult"
   ]
  },
  {
   "cell_type": "code",
   "execution_count": 71,
   "metadata": {},
   "outputs": [
    {
     "data": {
      "text/plain": [
       "('윤년', 29)"
      ]
     },
     "execution_count": 71,
     "metadata": {},
     "output_type": "execute_result"
    }
   ],
   "source": [
    "days2(2000, 2)"
   ]
  },
  {
   "cell_type": "code",
   "execution_count": null,
   "metadata": {},
   "outputs": [],
   "source": [
    "# 람다 함수\n",
    "# 이름이 선언하는 함수, 함수를 변수에 담아서 사용할 수 있도록 해줌\n",
    "# 변수 = lambda 매개변수[,...]: 실행코드\n",
    "# 파이썬에서 람다함수는 실행 코드를 여러줄 작성할 수 없음"
   ]
  },
  {
   "cell_type": "code",
   "execution_count": 72,
   "metadata": {},
   "outputs": [],
   "source": [
    "funtion2 = lambda x: 2 * x\n",
    "\n",
    "def funtion22 (x):\n",
    "  return 2 * x"
   ]
  },
  {
   "cell_type": "code",
   "execution_count": 73,
   "metadata": {},
   "outputs": [
    {
     "data": {
      "text/plain": [
       "10"
      ]
     },
     "execution_count": 73,
     "metadata": {},
     "output_type": "execute_result"
    }
   ],
   "source": [
    "funtion2(5)"
   ]
  },
  {
   "cell_type": "code",
   "execution_count": null,
   "metadata": {},
   "outputs": [],
   "source": [
    "# 지역변수와 전역변수\n",
    "# 지역에서 선언된 변수는 지역 바깥에서 사용할 수 없음"
   ]
  },
  {
   "cell_type": "code",
   "execution_count": 76,
   "metadata": {},
   "outputs": [],
   "source": [
    "local_variable = 100"
   ]
  },
  {
   "cell_type": "code",
   "execution_count": 77,
   "metadata": {},
   "outputs": [],
   "source": [
    "def funtion3 () :\n",
    "  local_variable = 10\n",
    "  return local_variable\n"
   ]
  },
  {
   "cell_type": "code",
   "execution_count": 79,
   "metadata": {},
   "outputs": [
    {
     "data": {
      "text/plain": [
       "100"
      ]
     },
     "execution_count": 79,
     "metadata": {},
     "output_type": "execute_result"
    }
   ],
   "source": [
    "funtion3()\n",
    "local_variable"
   ]
  },
  {
   "cell_type": "code",
   "execution_count": null,
   "metadata": {},
   "outputs": [],
   "source": [
    "# 전역에 선언된 변수를 지역에서 사용하고자 한다면\n",
    "# 사용전에 먼저 global 키워드로 특정 전역 변수를 사용하겠다고 지정해야함"
   ]
  },
  {
   "cell_type": "code",
   "execution_count": 80,
   "metadata": {},
   "outputs": [],
   "source": [
    "local_variable = 100"
   ]
  },
  {
   "cell_type": "code",
   "execution_count": 81,
   "metadata": {},
   "outputs": [],
   "source": [
    "def funtion4 ():\n",
    "  global local_variable\n",
    "  local_variable = 10"
   ]
  },
  {
   "cell_type": "code",
   "execution_count": 82,
   "metadata": {},
   "outputs": [
    {
     "data": {
      "text/plain": [
       "10"
      ]
     },
     "execution_count": 82,
     "metadata": {},
     "output_type": "execute_result"
    }
   ],
   "source": [
    "funtion4()\n",
    "local_variable"
   ]
  }
 ],
 "metadata": {
  "kernelspec": {
   "display_name": "Python 3",
   "language": "python",
   "name": "python3"
  },
  "language_info": {
   "codemirror_mode": {
    "name": "ipython",
    "version": 3
   },
   "file_extension": ".py",
   "mimetype": "text/x-python",
   "name": "python",
   "nbconvert_exporter": "python",
   "pygments_lexer": "ipython3",
   "version": "3.12.2"
  }
 },
 "nbformat": 4,
 "nbformat_minor": 2
}
