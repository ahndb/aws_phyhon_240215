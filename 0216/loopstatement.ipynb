{
 "cells": [
  {
   "cell_type": "code",
   "execution_count": 22,
   "metadata": {},
   "outputs": [],
   "source": [
    "# 반복문\n",
    "# for 반복문: 반복할 횟수가 정해져 있는 반복 작업에서 사용\n",
    "# for 변수 in range(반복 횟수):\n",
    "#   반복할 실행문 \n"
   ]
  },
  {
   "cell_type": "code",
   "execution_count": 23,
   "metadata": {},
   "outputs": [
    {
     "name": "stdout",
     "output_type": "stream",
     "text": [
      "[0, 1, 2, 3, 4]\n",
      "0\n",
      "1\n",
      "2\n",
      "3\n",
      "4\n",
      "5\n",
      "6\n",
      "7\n",
      "8\n",
      "9\n",
      "5\n",
      "8\n",
      "10\n",
      "9\n",
      "8\n",
      "7\n",
      "6\n",
      "5\n",
      "4\n",
      "3\n",
      "2\n",
      "1\n",
      "0\n"
     ]
    }
   ],
   "source": [
    "# for (int index = 0; index <5; index++) {} ---이 형태가 아님\n",
    "\n",
    "# int[] array = {0, 1, 2, 3 ,4 };\n",
    "# for (int index: array) {} --- 이 형태가 맞음\n",
    "\n",
    "# range(정수): 0부터 정수 -1 까지의 정수 리스트 생성\n",
    "# range(시작 정수, 종료 정수): 시작 정수부터 종료 정수 -1 까지의 정수 리스트를 생성\n",
    "# range(시작 정수, 종료 정수, 차이정수): 시작 정수부터 종료 정수 -1 까지의 정수 리스트를 생성하는데 차이정수 만큼의 차이를 가지며 변경됨\n",
    "\n",
    "print(list(range(5)))\n",
    "\n",
    "for index in range(5):\n",
    "  print(index)\n",
    "\n",
    "for index in range(5, 10):\n",
    "  print(index)\n",
    "\n",
    "for index in range(5, 10, 3):\n",
    "  print(index)\n",
    "\n",
    "for index in range(10, -1, -1):\n",
    "  print(index)"
   ]
  },
  {
   "cell_type": "code",
   "execution_count": 29,
   "metadata": {},
   "outputs": [
    {
     "name": "stdout",
     "output_type": "stream",
     "text": [
      "*\n",
      "**\n",
      "***\n",
      "****\n",
      "*****\n",
      "******\n",
      "*******\n",
      "********\n",
      "*********\n",
      "**********\n"
     ]
    }
   ],
   "source": [
    "for count in range(1, 11):\n",
    "  print('*' * count)"
   ]
  },
  {
   "cell_type": "code",
   "execution_count": 33,
   "metadata": {},
   "outputs": [
    {
     "name": "stdout",
     "output_type": "stream",
     "text": [
      "**********\n",
      "*********\n",
      "********\n",
      "*******\n",
      "******\n",
      "*****\n",
      "****\n",
      "***\n",
      "**\n",
      "*\n"
     ]
    }
   ],
   "source": [
    "for count in range(10, 0, -1):\n",
    "  print('*' * count)"
   ]
  },
  {
   "cell_type": "code",
   "execution_count": 46,
   "metadata": {},
   "outputs": [
    {
     "name": "stdout",
     "output_type": "stream",
     "text": [
      "*\n",
      "**\n",
      "***\n",
      "****\n",
      "*****\n",
      "******\n",
      "*******\n",
      "********\n",
      "*********\n",
      "**********\n",
      "*********\n",
      "********\n",
      "*******\n",
      "******\n",
      "*****\n",
      "****\n",
      "***\n",
      "**\n",
      "*\n"
     ]
    }
   ],
   "source": [
    "for count in range(1, 20):\n",
    "  if count <= 10:\n",
    "    print('*' * count)\n",
    "  else:\n",
    "    print('*' * (20 - count))"
   ]
  },
  {
   "cell_type": "code",
   "execution_count": 70,
   "metadata": {},
   "outputs": [
    {
     "name": "stdout",
     "output_type": "stream",
     "text": [
      "     *\n",
      "    ***\n",
      "   *****\n",
      "  *******\n",
      " *********\n",
      "***********\n",
      " *********\n",
      "  *******\n",
      "   *****\n",
      "    ***\n",
      "     *\n"
     ]
    }
   ],
   "source": [
    "for count in range(1, 12):\n",
    "  if count <= 6:\n",
    "    print(\" \" * (6 - count) + '*' * (count * 2 - 1))\n",
    "  else:\n",
    "    print(\" \" * (count - 6) + '*' * ((12 - count) * 2 - 1))"
   ]
  },
  {
   "cell_type": "code",
   "execution_count": 71,
   "metadata": {},
   "outputs": [
    {
     "name": "stdout",
     "output_type": "stream",
     "text": [
      "     *     \n",
      "    ***    \n",
      "   *****   \n",
      "  *******  \n",
      " ********* \n",
      "***********\n",
      " ********* \n",
      "  *******  \n",
      "   *****   \n",
      "    ***    \n",
      "     *     \n"
     ]
    }
   ],
   "source": [
    "for count in range(1, 12):\n",
    "  if count <= 6:\n",
    "    star = '*' * (count * 2 - 1)\n",
    "  else:\n",
    "    star = '*' * ((12 - count) * 2 - 1)\n",
    "  print(f'{star:^11}')"
   ]
  },
  {
   "cell_type": "code",
   "execution_count": null,
   "metadata": {},
   "outputs": [],
   "source": [
    "# 0 1 2 3 \n",
    "# 1 2 3 4 \n",
    "# 2 3 4 5 \n",
    "# 3 4 5 6"
   ]
  },
  {
   "cell_type": "code",
   "execution_count": 72,
   "metadata": {},
   "outputs": [
    {
     "name": "stdout",
     "output_type": "stream",
     "text": [
      "0 1 2 3 \n",
      "1 2 3 4 \n",
      "2 3 4 5 \n",
      "3 4 5 6 \n"
     ]
    }
   ],
   "source": [
    "for i in range(4):\n",
    "    for j in range(4):\n",
    "        print(i + j, end=\" \")\n",
    "    print()"
   ]
  },
  {
   "cell_type": "code",
   "execution_count": 75,
   "metadata": {},
   "outputs": [
    {
     "name": "stdout",
     "output_type": "stream",
     "text": [
      "0 1 2 3 \n",
      "1 2 3 4 \n",
      "2 3 4 5 \n",
      "3 4 5 6 \n"
     ]
    }
   ],
   "source": [
    "for start in range(4):\n",
    "  for value in range(start, start + 4):\n",
    "    print(value, end=\" \")\n",
    "  print(\"\")"
   ]
  },
  {
   "cell_type": "code",
   "execution_count": 81,
   "metadata": {},
   "outputs": [
    {
     "name": "stdout",
     "output_type": "stream",
     "text": [
      "1 3\n",
      "2 2\n",
      "2 6\n",
      "3 1\n",
      "3 5\n",
      "4 4\n",
      "5 3\n",
      "6 2\n",
      "6 6\n"
     ]
    }
   ],
   "source": [
    "for a in range(1, 7):\n",
    "  for b in range(1, 7):\n",
    "    if (a + b) % 4 == 0:\n",
    "      print (f'{a} {b}')"
   ]
  },
  {
   "cell_type": "code",
   "execution_count": 90,
   "metadata": {},
   "outputs": [
    {
     "name": "stdout",
     "output_type": "stream",
     "text": [
      "8192\n",
      "2048.0\n",
      "8192\n",
      "2048.0\n",
      "8192\n",
      "2048.0\n",
      "8192\n",
      "2048.0\n",
      "128.0\n"
     ]
    }
   ],
   "source": [
    "for day1 in range(2):\n",
    "  money = 1024\n",
    "  if day1 == 0:\n",
    "    money * 2\n",
    "  else:\n",
    "    money / 2\n",
    "  for day2 in range(2):\n",
    "    if day2 == 0:\n",
    "      money * 2 * 2\n",
    "    elif day2 == 1:\n",
    "      money * 2 / 2\n",
    "    else:\n",
    "      money / 2 / 2\n",
    "    for day3 in range(2):\n",
    "      if day3 == 0:\n",
    "        print(money * 2 * 2 * 2)\n",
    "      elif day3 == 1:\n",
    "        print(money * 2 * 2 / 2)\n",
    "      else:\n",
    "        print(money * 2 / 2 / 2)\n",
    "  else:\n",
    "    print(money / 2 / 2 / 2)"
   ]
  },
  {
   "cell_type": "code",
   "execution_count": 92,
   "metadata": {},
   "outputs": [
    {
     "name": "stdout",
     "output_type": "stream",
     "text": [
      "64.0\n",
      "256.0\n",
      "256.0\n",
      "1024.0\n",
      "256.0\n",
      "1024.0\n",
      "1024.0\n",
      "4096.0\n",
      "256.0\n",
      "1024.0\n",
      "1024.0\n",
      "4096.0\n",
      "1024.0\n",
      "4096.0\n",
      "4096.0\n",
      "16384\n"
     ]
    }
   ],
   "source": [
    "for day1 in range(2):\n",
    "  for day2 in range(2):\n",
    "    for day3 in range(2):\n",
    "      for day4 in range(2):\n",
    "        print(1024 * 2**(2*day1 - 1) * 2**(2*day2 - 1) * 2**(2*day3 - 1) * 2**(2*day4 - 1))"
   ]
  }
 ],
 "metadata": {
  "kernelspec": {
   "display_name": "Python 3",
   "language": "python",
   "name": "python3"
  },
  "language_info": {
   "codemirror_mode": {
    "name": "ipython",
    "version": 3
   },
   "file_extension": ".py",
   "mimetype": "text/x-python",
   "name": "python",
   "nbconvert_exporter": "python",
   "pygments_lexer": "ipython3",
   "version": "3.12.2"
  }
 },
 "nbformat": 4,
 "nbformat_minor": 2
}
