{
 "cells": [
  {
   "cell_type": "code",
   "execution_count": null,
   "metadata": {},
   "outputs": [],
   "source": [
    "# 객체\n",
    "# 데이터와 데이터를 조작하는 행위의 집합"
   ]
  },
  {
   "cell_type": "code",
   "execution_count": 14,
   "metadata": {},
   "outputs": [],
   "source": [
    "class Rectangle():\n",
    "\n",
    "  # 속성\n",
    "  def __init__(self, width, height):\n",
    "    self.width = width\n",
    "    self.height = height\n",
    "\n",
    "  # 매서드\n",
    "  def getArea(self):\n",
    "    return self.width * self.height"
   ]
  },
  {
   "cell_type": "code",
   "execution_count": 13,
   "metadata": {},
   "outputs": [
    {
     "data": {
      "text/plain": [
       "10"
      ]
     },
     "execution_count": 13,
     "metadata": {},
     "output_type": "execute_result"
    }
   ],
   "source": [
    "rectangle = Rectangle(10, 20)\n",
    "rectangle.width"
   ]
  },
  {
   "cell_type": "code",
   "execution_count": 12,
   "metadata": {},
   "outputs": [
    {
     "data": {
      "text/plain": [
       "200"
      ]
     },
     "execution_count": 12,
     "metadata": {},
     "output_type": "execute_result"
    }
   ],
   "source": [
    "rectangle.getArea()"
   ]
  },
  {
   "cell_type": "code",
   "execution_count": null,
   "metadata": {},
   "outputs": [],
   "source": [
    "# 사각 기둥의 부피를 계산하기 위한 클래스(Hexahedron)를 만든다. 이 클래스는 다음과 같은 속성을 가진다.\n",
    "\n",
    "# - 밑면의 가로 길이 `a`, 밑면의 세로 길이 `b`, 높이 `h`\n",
    "# - 부피를 계산하는 메서드 `volume`\n",
    "# - 겉넓이를 계산하는 메서드 `surface`\n",
    "\n",
    "# 밑면의 가로길이 * 밑면의 세로길이 * 높이\n",
    "\n",
    "# 2 *\n",
    "# ( 밑면의 가로길이 * 밑면의 세로길이\n",
    "#   + 밑면의 가로길이 * 높이\n",
    "#   + 밑면의 세로길이 * 높이\n",
    "#)\n"
   ]
  },
  {
   "cell_type": "code",
   "execution_count": 40,
   "metadata": {},
   "outputs": [],
   "source": [
    "class Hexahedron ():\n",
    "\n",
    "  def __init__(self, a, b, h):\n",
    "    self.a = a\n",
    "    self.b = b\n",
    "    self.h = h\n",
    "\n",
    "# 부피\n",
    "  def volume(self):\n",
    "    return self.a * self.b * self.h\n",
    "\n",
    "# 겉넓이\n",
    "  def surface(self):\n",
    "    return 2* (self.a*self.b + self.a*self.h + self.b*self.h)"
   ]
  },
  {
   "cell_type": "code",
   "execution_count": 44,
   "metadata": {},
   "outputs": [
    {
     "data": {
      "text/plain": [
       "4"
      ]
     },
     "execution_count": 44,
     "metadata": {},
     "output_type": "execute_result"
    }
   ],
   "source": [
    "hexahedron = Hexahedron(2, 3, 4)\n",
    "hexahedron.h"
   ]
  },
  {
   "cell_type": "code",
   "execution_count": 45,
   "metadata": {},
   "outputs": [
    {
     "data": {
      "text/plain": [
       "52"
      ]
     },
     "execution_count": 45,
     "metadata": {},
     "output_type": "execute_result"
    }
   ],
   "source": [
    "hexahedron.surface()"
   ]
  },
  {
   "cell_type": "code",
   "execution_count": 46,
   "metadata": {},
   "outputs": [],
   "source": [
    "class Character():\n",
    "\n",
    "  def __init__(self):\n",
    "    self.life = 1000\n",
    "\n",
    "  def attacked(self):\n",
    "    self.life -= 10\n",
    "    print(\"공격받음! 생명력 =\", self.life)"
   ]
  },
  {
   "cell_type": "code",
   "execution_count": 47,
   "metadata": {},
   "outputs": [
    {
     "data": {
      "text/plain": [
       "1000"
      ]
     },
     "execution_count": 47,
     "metadata": {},
     "output_type": "execute_result"
    }
   ],
   "source": [
    "character = Character()\n",
    "\n",
    "character.life"
   ]
  },
  {
   "cell_type": "code",
   "execution_count": 49,
   "metadata": {},
   "outputs": [
    {
     "name": "stdout",
     "output_type": "stream",
     "text": [
      "공격받음! 생명력 = 990\n"
     ]
    }
   ],
   "source": [
    "character.attacked()"
   ]
  },
  {
   "cell_type": "code",
   "execution_count": 50,
   "metadata": {},
   "outputs": [
    {
     "data": {
      "text/plain": [
       "990"
      ]
     },
     "execution_count": 50,
     "metadata": {},
     "output_type": "execute_result"
    }
   ],
   "source": [
    "\n",
    "character.life"
   ]
  },
  {
   "cell_type": "code",
   "execution_count": null,
   "metadata": {},
   "outputs": [],
   "source": [
    "# 클래스 상속\n",
    "# 이미 만들어져 있는 클래스를 재사용하기 위한 방법론으로 \n",
    "# 코드 재사용으로 코드의 중복을 제거할 수 있고 유지보수를 향상 시킬수 있음\n",
    "#  class 클래스명 (상속할 클래스명):\n",
    "#     def __init__(self, arg1, ...)\n",
    "#     super(자식클래스명, self).__init__()\n",
    "#     인스턴스 생성시 실행할 코드"
   ]
  },
  {
   "cell_type": "code",
   "execution_count": 51,
   "metadata": {},
   "outputs": [],
   "source": [
    "class Warrior(Character):\n",
    "\n",
    "    def __init__(self):\n",
    "        super(Warrior, self).__init__()\n",
    "        self.strength = 15\n",
    "        self.intelligence = 5"
   ]
  },
  {
   "cell_type": "code",
   "execution_count": 52,
   "metadata": {},
   "outputs": [],
   "source": [
    "class Wizard(Character):\n",
    "\n",
    "    def __init__(self):\n",
    "        super(Wizard, self).__init__()\n",
    "        self.strength = 5\n",
    "        self.intelligence = 15"
   ]
  },
  {
   "cell_type": "code",
   "execution_count": 58,
   "metadata": {},
   "outputs": [],
   "source": [
    "warrior = Warrior()\n",
    "wizard = Wizard()"
   ]
  },
  {
   "cell_type": "code",
   "execution_count": 60,
   "metadata": {},
   "outputs": [
    {
     "data": {
      "text/plain": [
       "15"
      ]
     },
     "execution_count": 60,
     "metadata": {},
     "output_type": "execute_result"
    }
   ],
   "source": [
    "warrior.strength"
   ]
  },
  {
   "cell_type": "code",
   "execution_count": 62,
   "metadata": {},
   "outputs": [
    {
     "name": "stdout",
     "output_type": "stream",
     "text": [
      "공격받음! 생명력 = 990\n"
     ]
    }
   ],
   "source": [
    "warrior.attacked()"
   ]
  },
  {
   "cell_type": "code",
   "execution_count": null,
   "metadata": {},
   "outputs": [],
   "source": [
    "# 오버라이딩\n",
    "# 클래스 상속 관계에서 조상클래스에 있는 메서드를 \n",
    "# 자손 클래스에서 재정의하여 사용하는 방법론"
   ]
  },
  {
   "cell_type": "code",
   "execution_count": 67,
   "metadata": {},
   "outputs": [],
   "source": [
    "class Warrior(Character):\n",
    "\n",
    "    def __init__(self):\n",
    "        super(Warrior, self).__init__()\n",
    "        self.strength = 15\n",
    "        self.intelligence = 5\n",
    "\n",
    "    def attacked(self):\n",
    "        self.life -= 5\n",
    "        print(f'전사가 공격당함!! life = {self.life}')"
   ]
  },
  {
   "cell_type": "code",
   "execution_count": 86,
   "metadata": {},
   "outputs": [],
   "source": [
    "class Wizard(Character):\n",
    "\n",
    "    def __init__(self):\n",
    "        super(Wizard, self).__init__()\n",
    "        self.strength = 5\n",
    "        self.intelligence = 15\n",
    "    \n",
    "    def attacked(self):\n",
    "        self.life -= 15\n",
    "        print(f'마법사가 공격당함!! life = {self.life}')\n",
    "\n",
    "    # 파이썬 오버로딩 안됨\n",
    "    # def attacked(self, target):\n",
    "    #     self.life -= 20\n",
    "    #     print(f'마법사가{target}공격당함!! life = {self.life}')"
   ]
  },
  {
   "cell_type": "code",
   "execution_count": 261,
   "metadata": {},
   "outputs": [],
   "source": [
    "character = Character()\n",
    "warrior = Warrior()\n",
    "wizard = Wizard()"
   ]
  },
  {
   "cell_type": "code",
   "execution_count": 262,
   "metadata": {},
   "outputs": [
    {
     "name": "stdout",
     "output_type": "stream",
     "text": [
      "공격받음! 생명력 = 990\n",
      "전사가 공격당함!! life = 995\n",
      "마법사가 공격당함!! life = 985\n"
     ]
    }
   ],
   "source": [
    "character.attacked()\n",
    "warrior.attacked()\n",
    "wizard.attacked()"
   ]
  },
  {
   "cell_type": "code",
   "execution_count": null,
   "metadata": {},
   "outputs": [],
   "source": [
    "# 특수 메서드\n",
    "# 파이썬 클래스에서 제공하는 __메서드명__ 형태의 메서드\n",
    "# __repr__(self): 인스턴스 자체 출력시 표현할 방법을 작성\n",
    "# __str__(self): 인스턴스를 문자열로 형변환할 때 표현할 방법을 작성\n",
    "# __getitem__(self, key): 인스턴스를 딕셔너리와 같이 'key'로 속성 값을 가져올 수 있도록 하는 방법을 작성 "
   ]
  },
  {
   "cell_type": "code",
   "execution_count": 271,
   "metadata": {},
   "outputs": [],
   "source": [
    "class Complex():\n",
    "\n",
    "  def __init__(self, r, i):\n",
    "    self.r = r\n",
    "    self.i = i\n",
    "\n",
    "  def __repr__(self):\n",
    "    return f'Complex - [r: {self.r}, i: {self.i}]'\n",
    "  \n",
    "  def __str__(self):\n",
    "    return f'r: {self.r}, i: {self.i}'"
   ]
  },
  {
   "cell_type": "code",
   "execution_count": 272,
   "metadata": {},
   "outputs": [
    {
     "data": {
      "text/plain": [
       "Complex - [r: 1, i: 2]"
      ]
     },
     "execution_count": 272,
     "metadata": {},
     "output_type": "execute_result"
    }
   ],
   "source": [
    "complex = Complex(1, 2)\n",
    "complex"
   ]
  },
  {
   "cell_type": "code",
   "execution_count": 273,
   "metadata": {},
   "outputs": [
    {
     "data": {
      "text/plain": [
       "'r: 1, i: 2'"
      ]
     },
     "execution_count": 273,
     "metadata": {},
     "output_type": "execute_result"
    }
   ],
   "source": [
    "str(complex)"
   ]
  },
  {
   "cell_type": "code",
   "execution_count": null,
   "metadata": {},
   "outputs": [],
   "source": []
  },
  {
   "cell_type": "code",
   "execution_count": null,
   "metadata": {},
   "outputs": [],
   "source": []
  },
  {
   "cell_type": "code",
   "execution_count": null,
   "metadata": {},
   "outputs": [],
   "source": []
  },
  {
   "cell_type": "code",
   "execution_count": null,
   "metadata": {},
   "outputs": [],
   "source": []
  },
  {
   "cell_type": "code",
   "execution_count": null,
   "metadata": {},
   "outputs": [],
   "source": []
  },
  {
   "cell_type": "code",
   "execution_count": null,
   "metadata": {},
   "outputs": [],
   "source": []
  },
  {
   "cell_type": "code",
   "execution_count": null,
   "metadata": {},
   "outputs": [],
   "source": []
  },
  {
   "cell_type": "code",
   "execution_count": null,
   "metadata": {},
   "outputs": [],
   "source": []
  },
  {
   "cell_type": "code",
   "execution_count": null,
   "metadata": {},
   "outputs": [],
   "source": []
  }
 ],
 "metadata": {
  "kernelspec": {
   "display_name": "Python 3",
   "language": "python",
   "name": "python3"
  },
  "language_info": {
   "codemirror_mode": {
    "name": "ipython",
    "version": 3
   },
   "file_extension": ".py",
   "mimetype": "text/x-python",
   "name": "python",
   "nbconvert_exporter": "python",
   "pygments_lexer": "ipython3",
   "version": "3.12.2"
  }
 },
 "nbformat": 4,
 "nbformat_minor": 2
}
